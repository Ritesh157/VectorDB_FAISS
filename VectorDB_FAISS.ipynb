{
 "cells": [
  {
   "cell_type": "code",
   "execution_count": 2,
   "id": "4cd65c60",
   "metadata": {},
   "outputs": [],
   "source": [
    "import numpy as np"
   ]
  },
  {
   "cell_type": "code",
   "execution_count": 1,
   "id": "dca458e9",
   "metadata": {},
   "outputs": [],
   "source": [
    "from dotenv import load_dotenv\n",
    "import os"
   ]
  },
  {
   "cell_type": "code",
   "execution_count": 3,
   "id": "285198be",
   "metadata": {},
   "outputs": [],
   "source": [
    "load_dotenv()\n",
    "EURI_API_KEY = os.getenv(\"EURI_API_KEY\")"
   ]
  },
  {
   "cell_type": "code",
   "execution_count": 4,
   "id": "aeb15af9",
   "metadata": {},
   "outputs": [],
   "source": [
    "from euriai.langchain import EuriaiChatModel\n",
    "from langchain_core.messages import SystemMessage, HumanMessage, AIMessage\n",
    "\n",
    "chat_model = EuriaiChatModel(api_key= EURI_API_KEY, model = \"gpt-4.1-nano\", max_token = 8000)"
   ]
  },
  {
   "cell_type": "code",
   "execution_count": 6,
   "id": "e8972103",
   "metadata": {},
   "outputs": [
    {
     "name": "stdout",
     "output_type": "stream",
     "text": [
      "Certainly! Here's a comprehensive article on Artificial Intelligence (AI) that blends English, Hindi, and Hinglish, covering various aspects such as history, types, applications, challenges, and future prospects. Given the scope, I will start with an extensive introduction and detailed sections to give you a rich, engaging read.\n",
      "\n",
      "---\n",
      "\n",
      "# Artificial Intelligence: Ek Vishal Yatra (A Grand Journey of AI)\n",
      "\n",
      "Artificial Intelligence, yaani AI, ek aisi technology hai jo hamare jeevan ko badal ke rakh di hai. Iski shuruaat 1950 ke dashak se hui thi, jab computer scientists ne socha ki kya machines bhi soch sakti hain? Aaj, AI sirf ek science fiction ki kalpana nahi, balki humare dincharya ka ek avashyak hissa ban chuki hai. Is article mein hum AI ke baare mein har ek pehlu ko explore karenge, jisme history, types, applications, challenges, aur future ke perspectives shamil hain.\n",
      "\n",
      "---\n",
      "\n",
      "## AI ka Itihaas (History of AI)\n",
      "\n",
      "AI ki shuruaat 1956 ke Dartmouth Conference se hui thi, jahan scientists ne AI ko ek scientific discipline ke roop mein pehchana. Early AI research mein, simple algorithms aur rule-based systems develop kiye gaye, jinhe “Logic Theorist” aur “ELIZA” jaise programs ke naam se jana jata hai. 1980s mein expert systems ki development se AI ne ek nayi disha li, jisme machines ko specific tasks jaise medical diagnosis ya financial analysis ke liye train kiya gaya.\n",
      "\n",
      "1997 mein IBM ke Deep Blue ne chess champion Garry Kasparov ko harakar AI ke potential ko dikhaya. 2010 ke baad, machine learning aur deep learning ke aagman se AI ne ek naye daur mein kadam rakha. Aaj, AI har field mein apni chhavi bana raha hai, jaise healthcare, finance, transportation, entertainment, aur education.\n",
      "\n",
      "---\n",
      "\n",
      "## Types of Artificial Intelligence (AI ke Prakar)\n",
      "\n",
      "AI ko uski capability aur intelligence ke level ke hisab se alag-alag categories mein divide kiya ja sakta hai:\n",
      "\n",
      "### 1. Narrow AI (सिमित बुद्धिमत्ता)\n",
      "Narrow AI, yaani Weak AI, wo AI systems hain jo ek specific task ke liye design kiye gaye hain. Jaise voice assistants (Siri, Alexa), spam filters, recommendation engines, etc. Ye AI human intelligence ke ek chhote se hisse ko replicate karte hain.\n",
      "\n",
      "### 2. General AI (सामान्य बुद्धिमत्ता)\n",
      "General AI, yaani Strong AI, wo AI hai jo human jaise har tarah ke tasks kar sakti hai. Iska development abhi tak sirf sapne jaisa hai, kyunki iska realization bahut complex hai. Is tarah ka AI insaan ki tarah sochne, samajhne, aur decision lene mein capable hoga.\n",
      "\n",
      "### 3. Superintelligent AI (अत्यधिक बुद्धिमत्ता)\n",
      "Superintelligent AI, jo future mein ban sakti hai, insaan se bhi zyada intelligent hogi. Yeh AI apne aapko improve kar sakti hai aur har field mein insaan se aage badh sakti hai. Iski potential benefits ke saath-saath, iske dangers bhi bahut hain, jinke baare mein aaj bhi debates hoti hain.\n",
      "\n",
      "---\n",
      "\n",
      "## AI ke Main Components (AI ke Mukhya Tatva)\n",
      "\n",
      "AI ke vikas ke liye kuch core components ka hona zaroori hai:\n",
      "\n",
      "### 1. Machine Learning (मशीन लर्निंग)\n",
      "Machine learning ek technique hai jisme machines ko data ke through seekhne aur improve karne ki kshamata di jati hai. Ismein algorithms aise banaye jate hain jo pattern recognition kar sakein aur future predictions kar sakein.\n",
      "\n",
      "### 2. Deep Learning (डीप लर्निंग)\n",
      "Deep learning, machine learning ka advanced form hai, jo neural networks par based hota hai. Is technique se computers images, speech, aur language ko samajhne lagte hain.\n",
      "\n",
      "### 3. Natural Language Processing (NLP) (प्राकृतिक भाषा संसाधन)\n",
      "NLP ke through machines human languages ko samajh sakti hain aur unka sath interact kar sakti hain. Chatbots, translation apps, aur voice assistants NLP ki misaal hain.\n",
      "\n",
      "### 4. Computer Vision (कंप्यूटर विज़न)\n",
      "Computer vision ke zariye machines images aur videos ko analyze karti hain, jise facial recognition, object detection, aur autonomous vehicles mein use kiya jata hai.\n",
      "\n",
      "---\n",
      "\n",
      "## AI ke Applications (AI ke Prayog)\n",
      "\n",
      "AI ki upyogita har sector mein dikhai det\n"
     ]
    }
   ],
   "source": [
    "message = [\n",
    "    SystemMessage(content=\"You are expert in writing article on mix of language of English, Hindi, Hinglish. Generate an article of more than 10000 sentences.\"),\n",
    "    HumanMessage(content='Generate article on Artificial Intelligence.')\n",
    "]\n",
    "\n",
    "response = chat_model.invoke(message)\n",
    "\n",
    "print(response.content)"
   ]
  },
  {
   "cell_type": "code",
   "execution_count": null,
   "id": "613f6e5e",
   "metadata": {},
   "outputs": [],
   "source": []
  }
 ],
 "metadata": {
  "kernelspec": {
   "display_name": "faissenv",
   "language": "python",
   "name": "python3"
  },
  "language_info": {
   "codemirror_mode": {
    "name": "ipython",
    "version": 3
   },
   "file_extension": ".py",
   "mimetype": "text/x-python",
   "name": "python",
   "nbconvert_exporter": "python",
   "pygments_lexer": "ipython3",
   "version": "3.10.0"
  }
 },
 "nbformat": 4,
 "nbformat_minor": 5
}
